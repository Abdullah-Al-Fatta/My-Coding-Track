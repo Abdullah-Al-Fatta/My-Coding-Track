{
 "cells": [
  {
   "cell_type": "code",
   "execution_count": 5,
   "metadata": {},
   "outputs": [
    {
     "name": "stdout",
     "output_type": "stream",
     "text": [
      "[5, 9, 1, 2, 4, 8, 6, 3, 7]\n",
      "[1, 2, 3, 4, 5, 6, 7, 8, 9]\n"
     ]
    }
   ],
   "source": [
    "def merge_sort(A):\n",
    "  merge_sort2(A, 0, len(A)-1)\n",
    "\n",
    "def merge_sort2(A, first, last):\n",
    "    if first < last:\n",
    "        middle = (first + last)//2\n",
    "        merge_sort2(A, first, middle)\n",
    "        merge_sort2(A, middle+1, last)\n",
    "        merge(A, first, middle, last)\n",
    "\n",
    "def merge(A, first, middle, last):\n",
    "    L = A[first:middle+1]\n",
    "    R = A[middle+1:last+1]\n",
    "    L.append(sys.maxsize)\n",
    "    R.append(sys.maxsize)\n",
    "    i = j = 0\n",
    "    \n",
    "    for k in range (first, last+1):\n",
    "        if L[i] <= R[j]:\n",
    "            A[k] = L[i]\n",
    "            i += 1\n",
    "        else:\n",
    "            A[k] = R[j]\n",
    "            j += 1\n",
    "\n",
    "A = [5,9,1,2,4,8,6,3,7]\n",
    "print(A)\n",
    "merge_sort(A)\n",
    "print(A)"
   ]
  },
  {
   "cell_type": "code",
   "execution_count": null,
   "metadata": {},
   "outputs": [],
   "source": []
  }
 ],
 "metadata": {
  "kernelspec": {
   "display_name": "Python 3",
   "language": "python",
   "name": "python3"
  },
  "language_info": {
   "codemirror_mode": {
    "name": "ipython",
    "version": 3
   },
   "file_extension": ".py",
   "mimetype": "text/x-python",
   "name": "python",
   "nbconvert_exporter": "python",
   "pygments_lexer": "ipython3",
   "version": "3.6.4"
  }
 },
 "nbformat": 4,
 "nbformat_minor": 2
}
